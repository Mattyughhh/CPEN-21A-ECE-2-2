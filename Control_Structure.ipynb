{
  "nbformat": 4,
  "nbformat_minor": 0,
  "metadata": {
    "colab": {
      "name": "Control Structure.ipynb",
      "provenance": [],
      "authorship_tag": "ABX9TyPA/mHW3ukC6U+RWNMXJpSA",
      "include_colab_link": true
    },
    "kernelspec": {
      "name": "python3",
      "display_name": "Python 3"
    },
    "language_info": {
      "name": "python"
    }
  },
  "cells": [
    {
      "cell_type": "markdown",
      "metadata": {
        "id": "view-in-github",
        "colab_type": "text"
      },
      "source": [
        "<a href=\"https://colab.research.google.com/github/Mattyughhh/CPEN-21A-ECE-2-2/blob/main/Control_Structure.ipynb\" target=\"_parent\"><img src=\"https://colab.research.google.com/assets/colab-badge.svg\" alt=\"Open In Colab\"/></a>"
      ]
    },
    {
      "cell_type": "markdown",
      "metadata": {
        "id": "zHCHmitbxrL1"
      },
      "source": [
        "##If Statement\n"
      ]
    },
    {
      "cell_type": "code",
      "metadata": {
        "colab": {
          "base_uri": "https://localhost:8080/"
        },
        "id": "PqyVBg-Yx64p",
        "outputId": "8cfce666-81ce-4624-9dee-b7ff8a93328f"
      },
      "source": [
        "a = 12\n",
        "b = 100\n",
        "if b>a:\n",
        "  print(\"b is greater than a\")\n"
      ],
      "execution_count": 2,
      "outputs": [
        {
          "output_type": "stream",
          "name": "stdout",
          "text": [
            "b is greater than a\n"
          ]
        }
      ]
    },
    {
      "cell_type": "markdown",
      "metadata": {
        "id": "Ufi0__Lby2Gh"
      },
      "source": [
        "##Elif Statement"
      ]
    },
    {
      "cell_type": "code",
      "metadata": {
        "colab": {
          "base_uri": "https://localhost:8080/"
        },
        "id": "bTts1CNJy-cF",
        "outputId": "06c1088b-3ed4-4ff9-aab5-8853d71acf3d"
      },
      "source": [
        "a = 12\n",
        "b = 100\n",
        "if b<a:\n",
        "  print(\"b is less than a\")\n",
        "elif b>a: \n",
        "  print(\"b is greater than a\")\n"
      ],
      "execution_count": 3,
      "outputs": [
        {
          "output_type": "stream",
          "name": "stdout",
          "text": [
            "b is greater than a\n"
          ]
        }
      ]
    },
    {
      "cell_type": "markdown",
      "metadata": {
        "id": "ZjBSBl3FzZnU"
      },
      "source": [
        "##Else Statement"
      ]
    },
    {
      "cell_type": "code",
      "metadata": {
        "colab": {
          "base_uri": "https://localhost:8080/"
        },
        "id": "3vmh7hE4zlL5",
        "outputId": "6ba6c65f-2f7a-490d-ff26-79c0519439f8"
      },
      "source": [
        "a = 12\n",
        "b = 12\n",
        "if b<a:\n",
        "  print(\"b is less than a\")\n",
        "elif b>a: \n",
        "  print(\"b is greater than a\")\n",
        "else:\n",
        "  print(\"a is equal to b\")\n"
      ],
      "execution_count": 4,
      "outputs": [
        {
          "output_type": "stream",
          "name": "stdout",
          "text": [
            "a is equal to b\n"
          ]
        }
      ]
    },
    {
      "cell_type": "markdown",
      "metadata": {
        "id": "h50aYrI9z4Vl"
      },
      "source": [
        "##Short Hand If...Else Statement"
      ]
    },
    {
      "cell_type": "code",
      "metadata": {
        "colab": {
          "base_uri": "https://localhost:8080/"
        },
        "id": "NAAFGTl7z7_B",
        "outputId": "d6d06f2e-5aed-412f-a854-c3ec44938e6a"
      },
      "source": [
        "a = 2\n",
        "b = 330\n",
        "print(\"A\") if a>b else print(\"B\")"
      ],
      "execution_count": 5,
      "outputs": [
        {
          "output_type": "stream",
          "name": "stdout",
          "text": [
            "B\n"
          ]
        }
      ]
    },
    {
      "cell_type": "code",
      "metadata": {
        "colab": {
          "base_uri": "https://localhost:8080/"
        },
        "id": "hU7hLp4o0yfn",
        "outputId": "b8ee8d3f-cb4e-4ea7-9f21-84acd5fe1281"
      },
      "source": [
        "a = 430\n",
        "b = 330\n",
        "print(\"A\") if a>b else print(\"B\")"
      ],
      "execution_count": 12,
      "outputs": [
        {
          "output_type": "stream",
          "name": "stdout",
          "text": [
            "A\n"
          ]
        }
      ]
    },
    {
      "cell_type": "markdown",
      "metadata": {
        "id": "dHef-H4i1g6E"
      },
      "source": [
        "##And Condition"
      ]
    },
    {
      "cell_type": "code",
      "metadata": {
        "colab": {
          "base_uri": "https://localhost:8080/"
        },
        "id": "vWjEzr5u06u5",
        "outputId": "7372524c-c752-4947-a894-60b3c88f41a0"
      },
      "source": [
        "a = 200\n",
        "b = 33\n",
        "c = 500\n",
        "if a>b and a<c:\n",
        "  print(\"The conditions need to be True\")"
      ],
      "execution_count": 17,
      "outputs": [
        {
          "output_type": "stream",
          "name": "stdout",
          "text": [
            "The conditions need to be True\n"
          ]
        }
      ]
    },
    {
      "cell_type": "markdown",
      "metadata": {
        "id": "Qt1faFyq2c0z"
      },
      "source": [
        "##Or Condition"
      ]
    },
    {
      "cell_type": "code",
      "metadata": {
        "colab": {
          "base_uri": "https://localhost:8080/"
        },
        "id": "M5RfZnxq1J7Q",
        "outputId": "2408fe8f-c833-4e3a-a8a6-37a99d407f73"
      },
      "source": [
        "a = 200\n",
        "b = 33\n",
        "c = 500\n",
        "if a>b or a<c:\n",
        "  print(\"One of the conditions are True\")"
      ],
      "execution_count": 20,
      "outputs": [
        {
          "output_type": "stream",
          "name": "stdout",
          "text": [
            "One of the conditions are True\n"
          ]
        }
      ]
    },
    {
      "cell_type": "markdown",
      "metadata": {
        "id": "yhaOWVPY3JVe"
      },
      "source": [
        "##Nested If"
      ]
    },
    {
      "cell_type": "code",
      "metadata": {
        "colab": {
          "base_uri": "https://localhost:8080/"
        },
        "id": "RH5vy-nD3LNf",
        "outputId": "543c584b-3310-4d84-b3f0-2551bf87b212"
      },
      "source": [
        "a = 41\n",
        "\n",
        "if a>10:\n",
        "  print(\"Above 10\")\n",
        "  if a>20:\n",
        "    print(\"Above 20\")\n",
        "  else:\n",
        "    print(\"not above 20\")"
      ],
      "execution_count": 33,
      "outputs": [
        {
          "output_type": "stream",
          "name": "stdout",
          "text": [
            "Above 10\n",
            "Above 20\n"
          ]
        }
      ]
    },
    {
      "cell_type": "code",
      "metadata": {
        "colab": {
          "base_uri": "https://localhost:8080/"
        },
        "id": "0e7Fda4z4xjy",
        "outputId": "04dbe9b5-92b3-4a44-a268-356398863250"
      },
      "source": [
        "a = 4\n",
        "\n",
        "if a>10:\n",
        "  print(\"Above 10\")\n",
        "  if a>20:\n",
        "    print(\"Above 20\")\n",
        "  else:\n",
        "    print(\"not above 20\")\n",
        "else: \n",
        "  print(\"Below 10\")"
      ],
      "execution_count": 34,
      "outputs": [
        {
          "output_type": "stream",
          "name": "stdout",
          "text": [
            "Below 10\n"
          ]
        }
      ]
    },
    {
      "cell_type": "markdown",
      "metadata": {
        "id": "9w68pZ0-5E_K"
      },
      "source": [
        "##Example 1\n",
        "Write a program that determines if the input age is qualified to vote or not. The qualifying age is 18 years old and above."
      ]
    },
    {
      "cell_type": "code",
      "metadata": {
        "colab": {
          "base_uri": "https://localhost:8080/"
        },
        "id": "8_93uWyJ5gFk",
        "outputId": "81b18941-c8b7-411c-ccc3-18baafeff5df"
      },
      "source": [
        "age = 18\n",
        "\n",
        "if age>=18:\n",
        "  print(\"Qualified to vote\")\n",
        "else:\n",
        "  print(\"Not qualified to vote\")"
      ],
      "execution_count": 42,
      "outputs": [
        {
          "output_type": "stream",
          "name": "stdout",
          "text": [
            "Qualified to vote\n"
          ]
        }
      ]
    },
    {
      "cell_type": "markdown",
      "metadata": {
        "id": "tQ1FaQa97yq-"
      },
      "source": [
        "## Example 2\n",
        "Write a program that determines if the input number is POSITIVE or NEGATIVE. Consider 0 as positive (considering that it contains no negative sign)."
      ]
    },
    {
      "cell_type": "code",
      "metadata": {
        "colab": {
          "base_uri": "https://localhost:8080/"
        },
        "id": "aiQevk9e9Q07",
        "outputId": "7cbb816c-c713-4ee0-cd7a-43e5cb32ce83"
      },
      "source": [
        "number = int(input(\"Enter a number:\"))\n",
        "if number>0:\n",
        "  print(\"You entered a positive number\")\n",
        "elif number ==0:\n",
        "  print('You entered 0')\n",
        "else:\n",
        "  print('You entered a negative number')"
      ],
      "execution_count": 47,
      "outputs": [
        {
          "output_type": "stream",
          "name": "stdout",
          "text": [
            "Enter a number:-4\n",
            "You entered a negative number\n"
          ]
        }
      ]
    }
  ]
}