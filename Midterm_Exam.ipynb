{
  "nbformat": 4,
  "nbformat_minor": 0,
  "metadata": {
    "colab": {
      "name": "Midterm Exam.ipynb",
      "provenance": [],
      "authorship_tag": "ABX9TyPXcMIcxVa3sFZcW76Rz/Gy",
      "include_colab_link": true
    },
    "kernelspec": {
      "name": "python3",
      "display_name": "Python 3"
    },
    "language_info": {
      "name": "python"
    }
  },
  "cells": [
    {
      "cell_type": "markdown",
      "metadata": {
        "id": "view-in-github",
        "colab_type": "text"
      },
      "source": [
        "<a href=\"https://colab.research.google.com/github/Mattyughhh/CPEN-21A-ECE-2-2/blob/main/Midterm_Exam.ipynb\" target=\"_parent\"><img src=\"https://colab.research.google.com/assets/colab-badge.svg\" alt=\"Open In Colab\"/></a>"
      ]
    },
    {
      "cell_type": "markdown",
      "metadata": {
        "id": "7QvGC_Lgw2R5"
      },
      "source": [
        "PROBLEM STATEMENT 1\n"
      ]
    },
    {
      "cell_type": "code",
      "metadata": {
        "colab": {
          "base_uri": "https://localhost:8080/"
        },
        "id": "i6-uB9B-vVXy",
        "outputId": "4f9220b6-d8d1-4c9c-ebac-809089c18258"
      },
      "source": [
        "a = \"John Matthew A. Protacio\"\n",
        "print (a)"
      ],
      "execution_count": 15,
      "outputs": [
        {
          "output_type": "stream",
          "name": "stdout",
          "text": [
            "John Matthew A. Protacio\n"
          ]
        }
      ]
    },
    {
      "cell_type": "code",
      "metadata": {
        "colab": {
          "base_uri": "https://localhost:8080/"
        },
        "id": "tvfSxS-0wMQ9",
        "outputId": "2e258741-a402-46f1-f4eb-870727c9a2bd"
      },
      "source": [
        "b = \"202013872\"\n",
        "print (b)"
      ],
      "execution_count": 16,
      "outputs": [
        {
          "output_type": "stream",
          "name": "stdout",
          "text": [
            "202013872\n"
          ]
        }
      ]
    },
    {
      "cell_type": "code",
      "metadata": {
        "colab": {
          "base_uri": "https://localhost:8080/"
        },
        "id": "L3h9dQ7DwTZj",
        "outputId": "fee72b69-81bf-463e-ca90-661b4b7cdc51"
      },
      "source": [
        "c = \"19 years old\"\n",
        "print (c)"
      ],
      "execution_count": 18,
      "outputs": [
        {
          "output_type": "stream",
          "name": "stdout",
          "text": [
            "19 years old\n"
          ]
        }
      ]
    },
    {
      "cell_type": "code",
      "metadata": {
        "colab": {
          "base_uri": "https://localhost:8080/"
        },
        "id": "KWZ6aC3TwZjR",
        "outputId": "ee3bea38-a03f-47cc-c4d0-9de626b74916"
      },
      "source": [
        "d = \"March 12 2002\"\n",
        "print (d)"
      ],
      "execution_count": 19,
      "outputs": [
        {
          "output_type": "stream",
          "name": "stdout",
          "text": [
            "March 12 2002\n"
          ]
        }
      ]
    },
    {
      "cell_type": "code",
      "metadata": {
        "colab": {
          "base_uri": "https://localhost:8080/"
        },
        "id": "zNh_iiVhweOK",
        "outputId": "b453e606-9828-4502-f582-a52e8bc7ac7f"
      },
      "source": [
        "e = \"Blk 169 Lot 33 Phase 4, Paliparan Site, Dasmarinas, Cavite\"\n",
        "print (e)"
      ],
      "execution_count": 20,
      "outputs": [
        {
          "output_type": "stream",
          "name": "stdout",
          "text": [
            "Blk 169 Lot 33 Phase 4, Paliparan Site, Dasmarinas, Cavite\n"
          ]
        }
      ]
    },
    {
      "cell_type": "code",
      "metadata": {
        "colab": {
          "base_uri": "https://localhost:8080/"
        },
        "id": "CJr6hbSDwmJJ",
        "outputId": "ef7dc695-c7dc-494e-c533-242c05f994f5"
      },
      "source": [
        "f = \"Bachelor of Science in Electronics and Communications Engineering\"\n",
        "print (f)"
      ],
      "execution_count": 21,
      "outputs": [
        {
          "output_type": "stream",
          "name": "stdout",
          "text": [
            "Bachelor of Science in Electronics and Communications Engineering\n"
          ]
        }
      ]
    },
    {
      "cell_type": "code",
      "metadata": {
        "colab": {
          "base_uri": "https://localhost:8080/"
        },
        "id": "Jy678beLwvdN",
        "outputId": "4b64ecfa-cb44-4b0c-82d3-23fdcf243518"
      },
      "source": [
        "g = \"1.44\"\n",
        "print (g)"
      ],
      "execution_count": 22,
      "outputs": [
        {
          "output_type": "stream",
          "name": "stdout",
          "text": [
            "1.44\n"
          ]
        }
      ]
    },
    {
      "cell_type": "markdown",
      "metadata": {
        "id": "2r02wG0UxBBU"
      },
      "source": [
        "PROBLEM STATEMENT 2"
      ]
    },
    {
      "cell_type": "code",
      "metadata": {
        "colab": {
          "base_uri": "https://localhost:8080/"
        },
        "id": "YU9P59lpxE24",
        "outputId": "e638457b-afd9-4394-dfaa-6c53358b76c3"
      },
      "source": [
        "n = 4\n",
        "print(2<n) and (n<6)\n"
      ],
      "execution_count": 40,
      "outputs": [
        {
          "output_type": "stream",
          "name": "stdout",
          "text": [
            "True\n"
          ]
        }
      ]
    },
    {
      "cell_type": "code",
      "metadata": {
        "colab": {
          "base_uri": "https://localhost:8080/"
        },
        "id": "I1TlfZL7zdQI",
        "outputId": "39b76112-67e0-4746-9b1f-707b248538f2"
      },
      "source": [
        "n = 4\n",
        "print(2<n or n==6)"
      ],
      "execution_count": 45,
      "outputs": [
        {
          "output_type": "stream",
          "name": "stdout",
          "text": [
            "True\n"
          ]
        }
      ]
    },
    {
      "cell_type": "code",
      "metadata": {
        "colab": {
          "base_uri": "https://localhost:8080/"
        },
        "id": "gfnACInS0I1e",
        "outputId": "603db4d5-a2c3-4bde-80fb-cb6967396567"
      },
      "source": [
        "n = 4 \n",
        "print(not(2<n or n==6))"
      ],
      "execution_count": 64,
      "outputs": [
        {
          "output_type": "stream",
          "name": "stdout",
          "text": [
            "False\n"
          ]
        }
      ]
    },
    {
      "cell_type": "code",
      "metadata": {
        "colab": {
          "base_uri": "https://localhost:8080/"
        },
        "id": "dBSuXzTA1hSl",
        "outputId": "3f1fd3a1-c94e-41a7-ea53-7438aafc50af"
      },
      "source": [
        "n = 4\n",
        "print (not(n<6))"
      ],
      "execution_count": 61,
      "outputs": [
        {
          "output_type": "stream",
          "name": "stdout",
          "text": [
            "False\n"
          ]
        }
      ]
    },
    {
      "cell_type": "code",
      "metadata": {
        "colab": {
          "base_uri": "https://localhost:8080/"
        },
        "id": "Op7po23O10tF",
        "outputId": "f389c866-ac14-49c0-9122-8ee25e0b9af3"
      },
      "source": [
        "answ = \"Y\"\n",
        "print(answ ==\"Y\" or answ ==\"y\")"
      ],
      "execution_count": 68,
      "outputs": [
        {
          "output_type": "stream",
          "name": "stdout",
          "text": [
            "True\n"
          ]
        }
      ]
    },
    {
      "cell_type": "code",
      "metadata": {
        "colab": {
          "base_uri": "https://localhost:8080/"
        },
        "id": "N3fm8bJq2uqf",
        "outputId": "6606db7e-077a-40e3-ab09-75fe2d353983"
      },
      "source": [
        "answ = \"Y\"\n",
        "print(\"Y\"==\"Y\" and \"Y\"==\"y\")"
      ],
      "execution_count": 85,
      "outputs": [
        {
          "output_type": "stream",
          "name": "stdout",
          "text": [
            "False\n"
          ]
        }
      ]
    },
    {
      "cell_type": "code",
      "metadata": {
        "colab": {
          "base_uri": "https://localhost:8080/"
        },
        "id": "moM61-U33Bhe",
        "outputId": "aa02a059-51fb-43b3-cd57-25310732d21a"
      },
      "source": [
        "answ = \"y\"\n",
        "print(not\"Y\"==\"y\")"
      ],
      "execution_count": 97,
      "outputs": [
        {
          "output_type": "stream",
          "name": "stdout",
          "text": [
            "True\n"
          ]
        }
      ]
    },
    {
      "cell_type": "code",
      "metadata": {
        "colab": {
          "base_uri": "https://localhost:8080/"
        },
        "id": "K8xd0Fyq3NM4",
        "outputId": "1fe9f5a5-c916-4c03-e91e-97156c0e5197"
      },
      "source": [
        "n = 4\n",
        "answ = \"No\"\n",
        "print(2<n and 4==5+1 or \"Y\"==\"No\")"
      ],
      "execution_count": 80,
      "outputs": [
        {
          "output_type": "stream",
          "name": "stdout",
          "text": [
            "False\n"
          ]
        }
      ]
    },
    {
      "cell_type": "code",
      "metadata": {
        "colab": {
          "base_uri": "https://localhost:8080/"
        },
        "id": "dlpLNk7W4E5z",
        "outputId": "bbf33afe-31f3-4a8f-99c5-c8266815e8c6"
      },
      "source": [
        "n = 4\n",
        "answ = \"Y\"\n",
        "print(4==2 and 4==7 or \"Y\"==\"Y\")"
      ],
      "execution_count": 93,
      "outputs": [
        {
          "output_type": "stream",
          "name": "stdout",
          "text": [
            "True\n"
          ]
        }
      ]
    },
    {
      "cell_type": "code",
      "metadata": {
        "colab": {
          "base_uri": "https://localhost:8080/"
        },
        "id": "kJCOQTVu4wVe",
        "outputId": "7fc52d8b-60c7-4723-bc7a-618dc8c72bf5"
      },
      "source": [
        "n = 4\n",
        "answ = \"Y\"\n",
        "print(4==2) and ((4==7) or (\"Y\"==\"Y\"))"
      ],
      "execution_count": 87,
      "outputs": [
        {
          "output_type": "stream",
          "name": "stdout",
          "text": [
            "False\n"
          ]
        }
      ]
    },
    {
      "cell_type": "markdown",
      "metadata": {
        "id": "pIX7VnAuxJPO"
      },
      "source": [
        "PROBLEM STATEMENT 3"
      ]
    },
    {
      "cell_type": "code",
      "metadata": {
        "colab": {
          "base_uri": "https://localhost:8080/"
        },
        "id": "O8-6wwjuxL__",
        "outputId": "5531083f-6f0c-4fa2-ccd6-1da8247ece15"
      },
      "source": [
        "x = 2\n",
        "y = -3\n",
        "print(x/y)"
      ],
      "execution_count": 29,
      "outputs": [
        {
          "output_type": "stream",
          "name": "stdout",
          "text": [
            "-0.6666666666666666\n"
          ]
        }
      ]
    },
    {
      "cell_type": "code",
      "metadata": {
        "colab": {
          "base_uri": "https://localhost:8080/"
        },
        "id": "wCokZKxJxuby",
        "outputId": "900634f1-27da-40ce-c19f-7fb777f4942f"
      },
      "source": [
        "x = 2\n",
        "y = -3\n",
        "w = 7\n",
        "print(w/y/x)"
      ],
      "execution_count": 28,
      "outputs": [
        {
          "output_type": "stream",
          "name": "stdout",
          "text": [
            "-1.1666666666666667\n"
          ]
        }
      ]
    },
    {
      "cell_type": "code",
      "metadata": {
        "colab": {
          "base_uri": "https://localhost:8080/"
        },
        "id": "y4aMBYn_x37j",
        "outputId": "f640bd78-a011-4d9e-b005-864496c2bebc"
      },
      "source": [
        "x = 2\n",
        "y = -3\n",
        "z = -10\n",
        "print(z/y%x)\n"
      ],
      "execution_count": 30,
      "outputs": [
        {
          "output_type": "stream",
          "name": "stdout",
          "text": [
            "1.3333333333333335\n"
          ]
        }
      ]
    },
    {
      "cell_type": "code",
      "metadata": {
        "colab": {
          "base_uri": "https://localhost:8080/"
        },
        "id": "wS2TYEWCyFCg",
        "outputId": "ba27728a-539c-47fd-dd71-236b4c9fa956"
      },
      "source": [
        "x = 2\n",
        "y = -3\n",
        "w = 7\n",
        "print(x%-y*w)"
      ],
      "execution_count": 31,
      "outputs": [
        {
          "output_type": "stream",
          "name": "stdout",
          "text": [
            "14\n"
          ]
        }
      ]
    },
    {
      "cell_type": "code",
      "metadata": {
        "colab": {
          "base_uri": "https://localhost:8080/"
        },
        "id": "MJOOTNedyTUR",
        "outputId": "deec46f4-af65-4a76-f497-f3f8d33c4f04"
      },
      "source": [
        "x = 2\n",
        "y = -3\n",
        "print(x%y)"
      ],
      "execution_count": 32,
      "outputs": [
        {
          "output_type": "stream",
          "name": "stdout",
          "text": [
            "-1\n"
          ]
        }
      ]
    },
    {
      "cell_type": "code",
      "metadata": {
        "colab": {
          "base_uri": "https://localhost:8080/"
        },
        "id": "FjvHqYupyZvW",
        "outputId": "6321459b-35f5-485e-8ab8-4030d53735f5"
      },
      "source": [
        "x = 2\n",
        "y = -3\n",
        "w = 7\n",
        "z = -10\n",
        "print(z%w-y/x*5+5)"
      ],
      "execution_count": 33,
      "outputs": [
        {
          "output_type": "stream",
          "name": "stdout",
          "text": [
            "16.5\n"
          ]
        }
      ]
    },
    {
      "cell_type": "code",
      "metadata": {
        "colab": {
          "base_uri": "https://localhost:8080/"
        },
        "id": "6Akay9V6ylgC",
        "outputId": "e6a2a4a9-2f40-4d68-a8cd-3e04ff55f68c"
      },
      "source": [
        "x = 2\n",
        "y = -3\n",
        "print(9-x%(2+y))"
      ],
      "execution_count": 98,
      "outputs": [
        {
          "output_type": "stream",
          "name": "stdout",
          "text": [
            "9\n"
          ]
        }
      ]
    },
    {
      "cell_type": "code",
      "metadata": {
        "id": "NVDQm0RQ81nx"
      },
      "source": [
        ""
      ],
      "execution_count": null,
      "outputs": []
    },
    {
      "cell_type": "code",
      "metadata": {
        "colab": {
          "base_uri": "https://localhost:8080/"
        },
        "id": "psa8wW5XyuTQ",
        "outputId": "185c0440-adab-4d8a-99ec-13ff34ccc9df"
      },
      "source": [
        "w = 7\n",
        "z = -10\n",
        "print(z//w)"
      ],
      "execution_count": 35,
      "outputs": [
        {
          "output_type": "stream",
          "name": "stdout",
          "text": [
            "-2\n"
          ]
        }
      ]
    },
    {
      "cell_type": "code",
      "metadata": {
        "colab": {
          "base_uri": "https://localhost:8080/"
        },
        "id": "PSfRUfd-y0hz",
        "outputId": "b453a3ee-5ed2-4ea3-fe22-3297252ecdad"
      },
      "source": [
        "y = -3\n",
        "print((2+y)**2)"
      ],
      "execution_count": 37,
      "outputs": [
        {
          "output_type": "stream",
          "name": "stdout",
          "text": [
            "1\n"
          ]
        }
      ]
    },
    {
      "cell_type": "code",
      "metadata": {
        "colab": {
          "base_uri": "https://localhost:8080/"
        },
        "id": "cEuLxr5ezDpD",
        "outputId": "6eb548d9-3921-49ab-f488-96ece7bb32fb"
      },
      "source": [
        "x = 2\n",
        "w = 7\n",
        "print(w/x*2)"
      ],
      "execution_count": 38,
      "outputs": [
        {
          "output_type": "stream",
          "name": "stdout",
          "text": [
            "7.0\n"
          ]
        }
      ]
    }
  ]
}