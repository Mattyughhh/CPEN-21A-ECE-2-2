{
  "nbformat": 4,
  "nbformat_minor": 0,
  "metadata": {
    "colab": {
      "name": "Final Exam.ipynb",
      "provenance": [],
      "authorship_tag": "ABX9TyNURbHdCW345qoOUUeeboUq",
      "include_colab_link": true
    },
    "kernelspec": {
      "name": "python3",
      "display_name": "Python 3"
    },
    "language_info": {
      "name": "python"
    }
  },
  "cells": [
    {
      "cell_type": "markdown",
      "metadata": {
        "id": "view-in-github",
        "colab_type": "text"
      },
      "source": [
        "<a href=\"https://colab.research.google.com/github/Mattyughhh/CPEN-21A-ECE-2-2/blob/main/Final_Exam.ipynb\" target=\"_parent\"><img src=\"https://colab.research.google.com/assets/colab-badge.svg\" alt=\"Open In Colab\"/></a>"
      ]
    },
    {
      "cell_type": "markdown",
      "source": [
        "##Problem Statement 1\n",
        "Create a Python program that will produce an output of sum of 10 numbers less than 5\n",
        "using FOR LOOP statement."
      ],
      "metadata": {
        "id": "N3dLyHpQzn0W"
      }
    },
    {
      "cell_type": "code",
      "source": [
        "temp = 0\n",
        "i = 1\n",
        "\n",
        "for n in range(10):\n",
        "   print ('Enter Number',i,':')\n",
        "   num = int(input(''))\n",
        "   i+= 1\n",
        "   if num < 5:\n",
        "      temp = temp + num\n",
        "print ('The sum of the numbers less than 5 is:',temp4)"
      ],
      "metadata": {
        "colab": {
          "base_uri": "https://localhost:8080/"
        },
        "id": "_mONTtvtp5S1",
        "outputId": "a59745b8-4036-464c-f210-2f546f6ba91f"
      },
      "execution_count": 4,
      "outputs": [
        {
          "output_type": "stream",
          "name": "stdout",
          "text": [
            "Enter Number 1 :\n",
            "10\n",
            "Enter Number 2 :\n",
            "9\n",
            "Enter Number 3 :\n",
            "8\n",
            "Enter Number 4 :\n",
            "7\n",
            "Enter Number 5 :\n",
            "6\n",
            "Enter Number 6 :\n",
            "5\n",
            "Enter Number 7 :\n",
            "4\n",
            "Enter Number 8 :\n",
            "3\n",
            "Enter Number 9 :\n",
            "2\n",
            "Enter Number 10 :\n",
            "1\n",
            "The sum of the numbers less than 5 is: 10\n"
          ]
        }
      ]
    },
    {
      "cell_type": "markdown",
      "source": [
        "##Problem Statement 2\n",
        "Create a Python program that will produce accept five numbers and determine the sum of\n",
        "first and last number among the five numbers entered using WHILE LOOP"
      ],
      "metadata": {
        "id": "OigLWK5b0XuJ"
      }
    },
    {
      "cell_type": "code",
      "source": [
        "arr=[]\n",
        "number=5\n",
        "i=0\n",
        "while (i != number):\n",
        "  temp = int(input(\"Enter a Number: \"))\n",
        "  i=i+1\n",
        "  arr.append(temp)\n",
        "sum=arr[0]+arr[number-1]\n",
        "print(\"The sum of first and last number is\")\n",
        "print(sum)"
      ],
      "metadata": {
        "id": "H--rotxr0fdM",
        "colab": {
          "base_uri": "https://localhost:8080/"
        },
        "outputId": "ff75a92f-0e8b-42e8-d556-0e0ea62f605e"
      },
      "execution_count": 2,
      "outputs": [
        {
          "output_type": "stream",
          "name": "stdout",
          "text": [
            "Enter a Number: 24\n",
            "Enter a Number: 18\n",
            "Enter a Number: 75\n",
            "Enter a Number: 41\n",
            "Enter a Number: 9\n",
            "The sum of first and last number is\n",
            "33\n"
          ]
        }
      ]
    },
    {
      "cell_type": "markdown",
      "source": [
        "##Problem Statement 3\n",
        "Create a Python program to calculate student grades. It accepts a numerical grade as input\n",
        "and it will display the character grade as output based on the given scale: (Use Nested-IF-Else\n",
        "statement)"
      ],
      "metadata": {
        "id": "Q6jsyfkF0gCx"
      }
    },
    {
      "cell_type": "code",
      "source": [
        "grade = int(input(\"Enter your numerical grade:\"))\n",
        "if grade >=90 and grade <= 100:\n",
        "  print(\"Character grade:A\")\n",
        "elif grade >= 80 and grade <= 89:\n",
        "    print(\"Character grade:B\")\n",
        "elif grade >= 70 and grade <= 79:\n",
        "      print(\"Character grade:C\")\n",
        "elif grade >= 60 and grade <= 69:\n",
        "        print(\"Character grade:D\")\n",
        "elif grade <= 60 and grade > 0:\n",
        "          print(\"F\")\n",
        "else:\n",
        "  print(\"invalid input\")\n",
        "  "
      ],
      "metadata": {
        "id": "Ycfa0Xbf1Vnt",
        "colab": {
          "base_uri": "https://localhost:8080/"
        },
        "outputId": "7d8d0566-09e1-494f-ef15-1f33deb26644"
      },
      "execution_count": 3,
      "outputs": [
        {
          "output_type": "stream",
          "name": "stdout",
          "text": [
            "Enter your numerical grade:95\n",
            "Character grade:A\n"
          ]
        }
      ]
    }
  ]
}