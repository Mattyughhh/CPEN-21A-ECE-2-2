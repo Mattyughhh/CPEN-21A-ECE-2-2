{
  "nbformat": 4,
  "nbformat_minor": 0,
  "metadata": {
    "colab": {
      "name": "Lab1.ipynb",
      "provenance": [],
      "authorship_tag": "ABX9TyOMtr/YopSUtbq3VB3GovK9",
      "include_colab_link": true
    },
    "kernelspec": {
      "name": "python3",
      "display_name": "Python 3"
    },
    "language_info": {
      "name": "python"
    }
  },
  "cells": [
    {
      "cell_type": "markdown",
      "metadata": {
        "id": "view-in-github",
        "colab_type": "text"
      },
      "source": [
        "<a href=\"https://colab.research.google.com/github/Mattyughhh/CPEN-21A-ECE-2-2/blob/main/Lab1.ipynb\" target=\"_parent\"><img src=\"https://colab.research.google.com/assets/colab-badge.svg\" alt=\"Open In Colab\"/></a>"
      ]
    },
    {
      "cell_type": "code",
      "metadata": {
        "colab": {
          "base_uri": "https://localhost:8080/"
        },
        "id": "KAIbS_M9fi2G",
        "outputId": "95bf2588-6b4f-4b01-f1dc-1587f462cbd0"
      },
      "source": [
        "print (\"Welcome to Python Programming\")"
      ],
      "execution_count": 1,
      "outputs": [
        {
          "output_type": "stream",
          "name": "stdout",
          "text": [
            "Welcome to Python Programming\n"
          ]
        }
      ]
    },
    {
      "cell_type": "code",
      "metadata": {
        "colab": {
          "base_uri": "https://localhost:8080/"
        },
        "id": "52EPFBGahjBZ",
        "outputId": "f2c85f00-1518-4501-851f-2f774959e92e"
      },
      "source": [
        "Name = input (\"What is your name?\")\n",
        "print (\"Your name is John Matthew A. Protacio\")"
      ],
      "execution_count": 12,
      "outputs": [
        {
          "output_type": "stream",
          "name": "stdout",
          "text": [
            "What is your name?John Matthew A. Protacio\n",
            "Your name is John Matthew A. Protacio\n"
          ]
        }
      ]
    },
    {
      "cell_type": "code",
      "metadata": {
        "colab": {
          "base_uri": "https://localhost:8080/"
        },
        "id": "llT8z6oFjrRZ",
        "outputId": "6c0d6f35-1d9e-46f9-b3d4-b36a85a15e1c"
      },
      "source": [
        "Address = input (\"What is your Address?\")\n",
        "print (\"Your address is Blk 169 Lot 33 Phase 4 Paliparan 3 site, Dasmarinas, Cavite\")"
      ],
      "execution_count": 13,
      "outputs": [
        {
          "output_type": "stream",
          "name": "stdout",
          "text": [
            "What is your Address?Blk 169 Lot 33 Phase 4 Paliparan 3 site, Dasmarinas, Cavite\n",
            "Your address is Blk 169 Lot 33 Phase 4 Paliparan 3 site, Dasmarinas, Cavite\n"
          ]
        }
      ]
    },
    {
      "cell_type": "code",
      "metadata": {
        "colab": {
          "base_uri": "https://localhost:8080/"
        },
        "id": "7PQ81j6wlQlC",
        "outputId": "34d98398-4465-4836-a61f-4a0bb28d8a0a"
      },
      "source": [
        "Age = input (\"What is your Age?\")\n",
        "print (\"Your age is 19\")"
      ],
      "execution_count": 14,
      "outputs": [
        {
          "output_type": "stream",
          "name": "stdout",
          "text": [
            "What is your Age?19\n",
            "Your age is 19\n"
          ]
        }
      ]
    }
  ]
}